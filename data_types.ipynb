{
 "cells": [
  {
   "cell_type": "markdown",
   "metadata": {},
   "source": [
    "# DATA STRUCTURES IN PYTHON\n",
    "## Lists\n",
    "- A list can store a sequence of objects\n",
    "- The objects can be of various types"
   ]
  },
  {
   "cell_type": "code",
   "execution_count": 2,
   "metadata": {},
   "outputs": [],
   "source": [
    "mylist = ['Hello', 12, 'World', 11.223, 'Me2', True]"
   ]
  },
  {
   "cell_type": "code",
   "execution_count": 3,
   "metadata": {},
   "outputs": [
    {
     "name": "stdout",
     "output_type": "stream",
     "text": [
      "['Hello', 12, 'World', 11.223, 'Me2', True]\n"
     ]
    }
   ],
   "source": [
    "print(mylist)"
   ]
  },
  {
   "cell_type": "code",
   "execution_count": 4,
   "metadata": {},
   "outputs": [
    {
     "data": {
      "text/plain": [
       "['Hello', 12, 'World', 11.223, 'Me2', True]"
      ]
     },
     "execution_count": 4,
     "metadata": {},
     "output_type": "execute_result"
    }
   ],
   "source": [
    "mylist"
   ]
  },
  {
   "cell_type": "markdown",
   "metadata": {},
   "source": [
    "- **List can be indexed like strings**"
   ]
  },
  {
   "cell_type": "code",
   "execution_count": 11,
   "metadata": {},
   "outputs": [
    {
     "name": "stdout",
     "output_type": "stream",
     "text": [
      "Hello\n",
      "[12]\n",
      "True\n",
      "[11.223, 'Me2']"
     ]
    }
   ],
   "source": [
    "print(mylist[0], mylist[1:2], mylist[-1], mylist[-3:-1], sep='\\n', end='')"
   ]
  },
  {
   "cell_type": "code",
   "execution_count": 12,
   "metadata": {},
   "outputs": [
    {
     "name": "stdout",
     "output_type": "stream",
     "text": [
      "True\n"
     ]
    }
   ],
   "source": [
    "print(mylist[-1]) # The last element"
   ]
  },
  {
   "cell_type": "code",
   "execution_count": 18,
   "metadata": {},
   "outputs": [
    {
     "name": "stdout",
     "output_type": "stream",
     "text": [
      "Backward indexing does not include the start and the end of the range!\n",
      " \tExcluding range: [-3:-1]: [11.223, 'Me2']\n"
     ]
    }
   ],
   "source": [
    "print('Backward indexing does not include the start and the end of the range!\\n', '\\tExcluding range: [-3:-1]:', mylist[-3:-1]) # -3: 3th from the end excluding the indexed item itself"
   ]
  },
  {
   "cell_type": "markdown",
   "metadata": {},
   "source": [
    "- **Lists can be concatenated like strings**"
   ]
  },
  {
   "cell_type": "code",
   "execution_count": 19,
   "metadata": {},
   "outputs": [
    {
     "name": "stdout",
     "output_type": "stream",
     "text": [
      "[1, 2, 3, 1, 3, 5]\n"
     ]
    }
   ],
   "source": [
    "a=[1,2,3]\n",
    "b=[1,3,5]\n",
    "print(a+b)"
   ]
  },
  {
   "cell_type": "markdown",
   "metadata": {},
   "source": [
    "- **Methods and properties of the lists**"
   ]
  },
  {
   "cell_type": "code",
   "execution_count": 20,
   "metadata": {},
   "outputs": [
    {
     "name": "stdout",
     "output_type": "stream",
     "text": [
      "3\n",
      "[1, 2, 3, 1, 3, 5]\n",
      "Deleting an element with del()...\n",
      "[1, 2, 3, 1, 5]\n"
     ]
    }
   ],
   "source": [
    "print(len(a))\n",
    "c=a+b\n",
    "print(c)\n",
    "print('Deleting an element with del()...')\n",
    "del(c[4])\n",
    "print(c)"
   ]
  },
  {
   "cell_type": "code",
   "execution_count": 21,
   "metadata": {},
   "outputs": [
    {
     "name": "stdout",
     "output_type": "stream",
     "text": [
      "Removing element by value...\n",
      "Using remove\n",
      "Removing 1's\n",
      "[2, 3, 1, 5]\n",
      "Only the first element is removed by remove()\n"
     ]
    }
   ],
   "source": [
    "print('Removing element by value...')\n",
    "print('Using remove')\n",
    "print('Removing 1\\'s')\n",
    "c.remove(1)\n",
    "print(c)\n",
    "print('Only the first element is removed by remove()')"
   ]
  },
  {
   "cell_type": "markdown",
   "metadata": {},
   "source": [
    "- **remove() removes the first matching element only**"
   ]
  },
  {
   "cell_type": "code",
   "execution_count": 22,
   "metadata": {},
   "outputs": [
    {
     "name": "stdout",
     "output_type": "stream",
     "text": [
      "Delete from the end... by [-2:]\n",
      "[2, 3]\n"
     ]
    }
   ],
   "source": [
    "print('Delete from the end... by [-2:]')\n",
    "del (c[-2:])\n",
    "print(c)"
   ]
  },
  {
   "cell_type": "code",
   "execution_count": 25,
   "metadata": {},
   "outputs": [
    {
     "name": "stdout",
     "output_type": "stream",
     "text": [
      "Delete from start to the one before the latest... by [:-1]\n",
      "[5]\n"
     ]
    }
   ],
   "source": [
    "print('Delete from start to the one before the latest... by [:-1]')\n",
    "c=[1,2,3,4,5]\n",
    "del c[:-1]\n",
    "print(c)"
   ]
  },
  {
   "cell_type": "markdown",
   "metadata": {},
   "source": [
    "- **Remove by pop() => remove by position**"
   ]
  },
  {
   "cell_type": "code",
   "execution_count": 26,
   "metadata": {},
   "outputs": [
    {
     "name": "stdout",
     "output_type": "stream",
     "text": [
      "[1, 2, 3, 4, 5]\n",
      "c after pop(2)\n",
      " [1, 2, 4, 5]\n"
     ]
    }
   ],
   "source": [
    "c=[1,2,3,4,5]\n",
    "print(c)\n",
    "c.pop(2)\n",
    "print('c after pop(2)\\n', c)"
   ]
  },
  {
   "cell_type": "markdown",
   "metadata": {},
   "source": [
    "- **the __in__ operator**"
   ]
  },
  {
   "cell_type": "code",
   "execution_count": 27,
   "metadata": {},
   "outputs": [
    {
     "name": "stdout",
     "output_type": "stream",
     "text": [
      "Is \"Paris\" in the list?\n",
      "False\n"
     ]
    }
   ],
   "source": [
    "list1 = ['Budapest', 'Pecs', 'London']\n",
    "print('Is \"Paris\" in the list?')\n",
    "print('Paris' in list1)"
   ]
  },
  {
   "cell_type": "markdown",
   "metadata": {},
   "source": [
    "- **Max and Min**"
   ]
  },
  {
   "cell_type": "code",
   "execution_count": 28,
   "metadata": {},
   "outputs": [
    {
     "name": "stdout",
     "output_type": "stream",
     "text": [
      "[1, 2, 3, 4, 5, 6]\n",
      "Max: 6\n",
      "Min: 1\n"
     ]
    }
   ],
   "source": [
    "c=[1,2,3,4,5,6]\n",
    "print(c)\n",
    "print('Max:', max(c))\n",
    "print('Min:', min(c))"
   ]
  },
  {
   "cell_type": "markdown",
   "metadata": {},
   "source": [
    "- **Appending elements**"
   ]
  },
  {
   "cell_type": "code",
   "execution_count": 29,
   "metadata": {},
   "outputs": [
    {
     "name": "stdout",
     "output_type": "stream",
     "text": [
      "[1, 2, 3, 4]\n",
      "[1, 2, 3, 4, 5, 6, 7]\n"
     ]
    }
   ],
   "source": [
    "l1 = [1,2,3]\n",
    "# Append one element\n",
    "l1.append(4)\n",
    "print(l1)\n",
    "# Append multiple elements\n",
    "l1.extend([5,6,7])\n",
    "print(l1)"
   ]
  },
  {
   "cell_type": "code",
   "execution_count": 33,
   "metadata": {},
   "outputs": [
    {
     "name": "stdout",
     "output_type": "stream",
     "text": [
      "[1, 2, 3, 4, 5, 6, 7, [8, 9]]\n",
      "!!!WRONG!!!\n",
      "Removing the last appended list from the list...with del [-1]\n",
      "[1, 2, 3, 4, 5, 6, 7]\n"
     ]
    }
   ],
   "source": [
    "# Append as a list with append\n",
    "l1.append([8,9])\n",
    "print(l1)\n",
    "print('!!!WRONG!!!')\n",
    "print('Removing the last appended list from the list...with del [-1]')\n",
    "del l1[-1]\n",
    "print(l1)"
   ]
  },
  {
   "cell_type": "markdown",
   "metadata": {},
   "source": [
    "- **Inserting elements**"
   ]
  },
  {
   "cell_type": "code",
   "execution_count": 34,
   "metadata": {},
   "outputs": [
    {
     "name": "stdout",
     "output_type": "stream",
     "text": [
      "[1, 2, 3, 5]\n",
      "[1, 2, 4, 3, 5]\n"
     ]
    }
   ],
   "source": [
    "l1 = [1,2,3,5]\n",
    "print(l1)\n",
    "l1.insert(2,4)\n",
    "print(l1)"
   ]
  },
  {
   "cell_type": "markdown",
   "metadata": {},
   "source": [
    "- **list.sort() and sorted()**"
   ]
  },
  {
   "cell_type": "code",
   "execution_count": 37,
   "metadata": {},
   "outputs": [
    {
     "name": "stdout",
     "output_type": "stream",
     "text": [
      "[2, 1, -1, 0, 25]\n",
      "sort in place: [-1, 0, 1, 2, 25]\n",
      "sort without modification of the original...\n",
      "[2, 1, -1, 0, 25]\n",
      "Sorted: [-1, 0, 1, 2, 25]\n",
      "Original: [2, 1, -1, 0, 25]\n"
     ]
    }
   ],
   "source": [
    "l1 = [2,1,-1,0,25]\n",
    "print(l1)\n",
    "l1.sort()\n",
    "print('sort in place:', l1)\n",
    "print('sort without modification of the original...')\n",
    "l1 = [2,1,-1,0,25]\n",
    "print(l1)\n",
    "print('Sorted:', sorted(l1))\n",
    "print('Original:', l1)"
   ]
  },
  {
   "cell_type": "markdown",
   "metadata": {},
   "source": [
    "- **Reassign a value**"
   ]
  },
  {
   "cell_type": "code",
   "execution_count": 42,
   "metadata": {},
   "outputs": [
    {
     "name": "stdout",
     "output_type": "stream",
     "text": [
      "[2, 1, 56, 2, 25]\n"
     ]
    }
   ],
   "source": [
    "l1[2]=56\n",
    "print(l1)"
   ]
  },
  {
   "cell_type": "code",
   "execution_count": 43,
   "metadata": {},
   "outputs": [
    {
     "name": "stdout",
     "output_type": "stream",
     "text": [
      "[2, 1, -4, 5, 25]\n"
     ]
    }
   ],
   "source": [
    "l1[-3:-1] = [-4,5]\n",
    "print(l1)"
   ]
  },
  {
   "cell_type": "markdown",
   "metadata": {},
   "source": [
    "## Tuples\n",
    "### list vs. tuples\n",
    "- Tuple is immutable\n",
    "- Tuple cannot be extended or appended\n",
    "- List is mutable\n",
    "- Tuple is defined by () instead of []\n",
    "\n",
    "### Indexing and slicing works with tuples as with lists"
   ]
  },
  {
   "cell_type": "code",
   "execution_count": 44,
   "metadata": {},
   "outputs": [
    {
     "name": "stdout",
     "output_type": "stream",
     "text": [
      "<class 'tuple'>\n"
     ]
    }
   ],
   "source": [
    "t1 = ('banana', 12)\n",
    "print(type(t1))"
   ]
  },
  {
   "cell_type": "code",
   "execution_count": 45,
   "metadata": {},
   "outputs": [
    {
     "name": "stdout",
     "output_type": "stream",
     "text": [
      "2\n"
     ]
    }
   ],
   "source": [
    "print(len(t1))"
   ]
  },
  {
   "cell_type": "markdown",
   "metadata": {},
   "source": [
    "## Dictionary\n",
    "\n",
    "- A set of unordered key-value elements\n",
    "- keys and values can be of any type\n",
    "- no duplicated elements\n",
    "- mutable\n",
    "- iterable\n",
    "\n",
    "### Declaration\n",
    "```python\n",
    "dict1 = {key1:val1, key2:val2}\n",
    "```\n",
    "#### Example\n",
    "```python\n",
    "d1 = {'name':'John', 'age':32}\n",
    "print(d1)\n",
    "print(d1['name'])\n",
    "```"
   ]
  },
  {
   "cell_type": "code",
   "execution_count": 46,
   "metadata": {},
   "outputs": [
    {
     "name": "stdout",
     "output_type": "stream",
     "text": [
      "{'name': 'John', 'age': 32}\n",
      "John\n"
     ]
    }
   ],
   "source": [
    "d1 = {'name':'John', 'age':32}\n",
    "print(d1)\n",
    "print(d1['name'])"
   ]
  },
  {
   "cell_type": "markdown",
   "metadata": {},
   "source": [
    "## Set\n",
    "\n",
    "- unordered\n",
    "- iterable\n",
    "- mutable\n",
    "- no duplicates\n",
    "\n",
    "### Declaration and examples\n",
    "\n",
    "- declared within '{}'\n",
    "- elements can be any of type but without duplicates\n",
    "\n",
    "```python\n",
    "s1={'a', 'b', 'c'}\n",
    "s2={1977, 1978, 1979}\n",
    "print(s1)\n",
    "print(s2)\n",
    "```"
   ]
  },
  {
   "cell_type": "code",
   "execution_count": 47,
   "metadata": {},
   "outputs": [
    {
     "name": "stdout",
     "output_type": "stream",
     "text": [
      "{1, 2, 3, 4}\n",
      "<class 'set'>\n",
      "{2000, 2001, 2002, 2003}\n",
      "<class 'set'>\n",
      "{'a', 'b', 'c'}\n",
      "<class 'set'>\n",
      "{'banana', 'orange', 'apple'}\n",
      "<class 'set'>\n"
     ]
    }
   ],
   "source": [
    "s1={1,2,3,4}\n",
    "print(s1)\n",
    "print(type(s1))\n",
    "s2={2000, 2001, 2002, 2003}\n",
    "print(s2)\n",
    "print(type(s2))\n",
    "s3={'a', 'b', 'c'}\n",
    "s4={'banana', 'orange', 'apple'}\n",
    "print(s3)\n",
    "print(type(s3))\n",
    "print(s4)\n",
    "print(type(s4))"
   ]
  },
  {
   "cell_type": "code",
   "execution_count": null,
   "metadata": {},
   "outputs": [],
   "source": []
  }
 ],
 "metadata": {
  "kernelspec": {
   "display_name": "Python 3",
   "language": "python",
   "name": "python3"
  },
  "language_info": {
   "codemirror_mode": {
    "name": "ipython",
    "version": 3
   },
   "file_extension": ".py",
   "mimetype": "text/x-python",
   "name": "python",
   "nbconvert_exporter": "python",
   "pygments_lexer": "ipython3",
   "version": "3.8.3"
  }
 },
 "nbformat": 4,
 "nbformat_minor": 4
}
