{
 "cells": [
  {
   "cell_type": "markdown",
   "metadata": {},
   "source": [
    "# User defined functions"
   ]
  },
  {
   "cell_type": "code",
   "execution_count": 4,
   "metadata": {},
   "outputs": [
    {
     "name": "stdout",
     "output_type": "stream",
     "text": [
      "Hello Joe How are you doing?\n",
      "Hello Zoltan How are you doing?\n"
     ]
    }
   ],
   "source": [
    "global_name = \"Joe\"\n",
    "def greetings(name = None):\n",
    "    \"\"\" This function greets a person\n",
    "    whos name has been passed to the function as a 'name'\n",
    "    \"\"\"\n",
    "    global global_name\n",
    "    if name is None:\n",
    "        print('Hello', global_name, \"How are you doing?\")\n",
    "    else:\n",
    "        print('Hello', name, \"How are you doing?\")\n",
    "    \n",
    "greetings()\n",
    "greetings(\"Zoltan\")"
   ]
  },
  {
   "cell_type": "code",
   "execution_count": 7,
   "metadata": {},
   "outputs": [
    {
     "name": "stdout",
     "output_type": "stream",
     "text": [
      "10\n",
      "10\n"
     ]
    }
   ],
   "source": [
    "def absolute(x):\n",
    "    if x >= 0:\n",
    "        return (x)\n",
    "    else:\n",
    "        return (-x)\n",
    "    \n",
    "print(absolute(-10))\n",
    "print(absolute(10))"
   ]
  },
  {
   "cell_type": "markdown",
   "metadata": {},
   "source": [
    "## Basic lambda function"
   ]
  },
  {
   "cell_type": "code",
   "execution_count": 8,
   "metadata": {},
   "outputs": [],
   "source": [
    "absolute = lambda x: abs(x)"
   ]
  },
  {
   "cell_type": "code",
   "execution_count": 9,
   "metadata": {},
   "outputs": [
    {
     "name": "stdout",
     "output_type": "stream",
     "text": [
      "20\n"
     ]
    }
   ],
   "source": [
    "print(absolute(-20))"
   ]
  }
 ],
 "metadata": {
  "kernelspec": {
   "display_name": "Python 3",
   "language": "python",
   "name": "python3"
  },
  "language_info": {
   "codemirror_mode": {
    "name": "ipython",
    "version": 3
   },
   "file_extension": ".py",
   "mimetype": "text/x-python",
   "name": "python",
   "nbconvert_exporter": "python",
   "pygments_lexer": "ipython3",
   "version": "3.8.3"
  }
 },
 "nbformat": 4,
 "nbformat_minor": 4
}
