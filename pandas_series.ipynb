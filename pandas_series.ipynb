{
 "cells": [
  {
   "cell_type": "markdown",
   "metadata": {},
   "source": [
    "# Using pandas"
   ]
  },
  {
   "cell_type": "code",
   "execution_count": 1,
   "metadata": {},
   "outputs": [],
   "source": [
    "import pandas as pd\n",
    "import numpy as np"
   ]
  },
  {
   "cell_type": "markdown",
   "metadata": {},
   "source": [
    "## Series"
   ]
  },
  {
   "cell_type": "markdown",
   "metadata": {},
   "source": [
    "A serie is basically a single column of a spreadsheet (dataframe)\n",
    "Let's create some series:"
   ]
  },
  {
   "cell_type": "code",
   "execution_count": 4,
   "metadata": {},
   "outputs": [],
   "source": [
    "mydata = [1, 3, 5, 7, 9]\n",
    "mydata2 = [x for x in range(0,10) if x % 2 == 0]\n",
    "myser = pd.Series(data=mydata)"
   ]
  },
  {
   "cell_type": "code",
   "execution_count": 6,
   "metadata": {},
   "outputs": [
    {
     "name": "stdout",
     "output_type": "stream",
     "text": [
      "[1, 3, 5, 7, 9]\n",
      "[0, 2, 4, 6, 8]\n"
     ]
    }
   ],
   "source": [
    "print(mydata)\n",
    "print(mydata2)"
   ]
  },
  {
   "cell_type": "code",
   "execution_count": 7,
   "metadata": {},
   "outputs": [
    {
     "name": "stdout",
     "output_type": "stream",
     "text": [
      "0    1\n",
      "1    3\n",
      "2    5\n",
      "3    7\n",
      "4    9\n",
      "dtype: int64\n"
     ]
    }
   ],
   "source": [
    "print(myser)"
   ]
  },
  {
   "cell_type": "code",
   "execution_count": 8,
   "metadata": {},
   "outputs": [
    {
     "name": "stdout",
     "output_type": "stream",
     "text": [
      "0    0\n",
      "1    2\n",
      "2    4\n",
      "3    6\n",
      "4    8\n",
      "dtype: int32\n"
     ]
    }
   ],
   "source": [
    "myserarray = np.array(mydata2)\n",
    "myser2 = pd.Series(myserarray)\n",
    "print(myser2)"
   ]
  },
  {
   "cell_type": "code",
   "execution_count": 10,
   "metadata": {},
   "outputs": [
    {
     "name": "stdout",
     "output_type": "stream",
     "text": [
      "honda    0\n",
      "ford     2\n",
      "opel     4\n",
      "fiat     6\n",
      "lux      8\n",
      "dtype: int32\n"
     ]
    }
   ],
   "source": [
    "# with index labels\n",
    "myindex = ['honda', 'ford', 'opel', 'fiat', 'lux']\n",
    "myser3 = pd.Series(myserarray, myindex)\n",
    "print(myser3)"
   ]
  },
  {
   "cell_type": "markdown",
   "metadata": {},
   "source": [
    "### Accessing elements"
   ]
  },
  {
   "cell_type": "code",
   "execution_count": 11,
   "metadata": {},
   "outputs": [
    {
     "name": "stdout",
     "output_type": "stream",
     "text": [
      "6\n"
     ]
    }
   ],
   "source": [
    "print(myser3['fiat'])"
   ]
  },
  {
   "cell_type": "markdown",
   "metadata": {},
   "source": [
    "### Do math element-wise"
   ]
  },
  {
   "cell_type": "code",
   "execution_count": 12,
   "metadata": {},
   "outputs": [
    {
     "name": "stdout",
     "output_type": "stream",
     "text": [
      "honda     0.0\n",
      "ford      6.0\n",
      "opel     12.0\n",
      "fiat     18.0\n",
      "lux      24.0\n",
      "dtype: float64\n"
     ]
    }
   ],
   "source": [
    "print(myser3*3.0)"
   ]
  },
  {
   "cell_type": "markdown",
   "metadata": {},
   "source": [
    "## Creating DataFrames by combining series"
   ]
  },
  {
   "cell_type": "code",
   "execution_count": 24,
   "metadata": {},
   "outputs": [
    {
     "name": "stdout",
     "output_type": "stream",
     "text": [
      "        0    1\n",
      "opel  1.0  3.4\n",
      "ford  2.3  3.3\n",
      "fiat  4.5  3.2\n",
      "lux   6.7  2.2\n"
     ]
    }
   ],
   "source": [
    "ser1 = pd.Series([1, 2.3, 4.5, 6.7], ['opel', 'ford', 'fiat', 'lux'])\n",
    "ser2 = pd.Series([3.4, 3.2, 3.3, 2.2], ['opel', 'fiat', 'ford', 'lux'])\n",
    "myframe = pd.concat([ser1, ser2], axis=1)\n",
    "print(myframe)"
   ]
  },
  {
   "cell_type": "code",
   "execution_count": 30,
   "metadata": {},
   "outputs": [
    {
     "name": "stdout",
     "output_type": "stream",
     "text": [
      "opel    1.0\n",
      "ford    2.3\n",
      "fiat    4.5\n",
      "lux     6.7\n",
      "Name: 0, dtype: float64\n",
      "opel    3.4\n",
      "ford    3.3\n",
      "fiat    3.2\n",
      "lux     2.2\n",
      "Name: 1, dtype: float64\n"
     ]
    }
   ],
   "source": [
    "print(myframe[0])\n",
    "print(myframe[1])"
   ]
  },
  {
   "cell_type": "markdown",
   "metadata": {},
   "source": [
    "## Creating DataFrames with random data"
   ]
  },
  {
   "cell_type": "code",
   "execution_count": 32,
   "metadata": {},
   "outputs": [
    {
     "name": "stdout",
     "output_type": "stream",
     "text": [
      "          0         1         2         3         4\n",
      "0  0.074801  0.772561  0.851184  0.391396  0.846016\n",
      "1  0.268100  0.202687  0.671945  0.602477  0.810833\n",
      "2  0.418786  0.458297  0.060113  0.211585  0.018091\n",
      "3  0.434126  0.207649  0.694073  0.019169  0.875566\n",
      "4  0.231700  0.070585  0.824286  0.791974  0.455876\n"
     ]
    }
   ],
   "source": [
    "myframe2 = pd.DataFrame(np.random.rand(5,5))\n",
    "print(myframe2)"
   ]
  },
  {
   "cell_type": "code",
   "execution_count": 33,
   "metadata": {},
   "outputs": [
    {
     "name": "stdout",
     "output_type": "stream",
     "text": [
      "          fiat      opel      ford    toyota       lux\n",
      "day1  0.383862  1.184795  1.233391 -1.409819 -0.175223\n",
      "day2 -0.995241 -0.171044  0.337925 -1.386632 -0.357476\n",
      "day3 -0.972147  1.091055 -0.840739  0.258189  0.885440\n",
      "day4  0.709033 -0.212156  0.605999  0.993640 -0.805394\n",
      "day5  0.036126 -0.335380  0.783355 -0.588851 -0.434726\n"
     ]
    }
   ],
   "source": [
    "myframe3 = pd.DataFrame(data=np.random.randn(5,5), index=['day1', 'day2', 'day3', 'day4', 'day5'], columns=['fiat', 'opel', 'ford', 'toyota', 'lux'])\n",
    "print(myframe3)"
   ]
  },
  {
   "cell_type": "code",
   "execution_count": 34,
   "metadata": {},
   "outputs": [],
   "source": [
    "myframe3.to_pickle(\"dataframe.pd\") # Save the dataframe"
   ]
  }
 ],
 "metadata": {
  "kernelspec": {
   "display_name": "Python 3",
   "language": "python",
   "name": "python3"
  },
  "language_info": {
   "codemirror_mode": {
    "name": "ipython",
    "version": 3
   },
   "file_extension": ".py",
   "mimetype": "text/x-python",
   "name": "python",
   "nbconvert_exporter": "python",
   "pygments_lexer": "ipython3",
   "version": "3.8.3"
  }
 },
 "nbformat": 4,
 "nbformat_minor": 4
}
