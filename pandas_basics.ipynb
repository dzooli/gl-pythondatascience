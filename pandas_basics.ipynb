{
 "cells": [
  {
   "cell_type": "code",
   "execution_count": 2,
   "metadata": {},
   "outputs": [],
   "source": [
    "import pandas as pd\n",
    "import numpy as np"
   ]
  },
  {
   "cell_type": "code",
   "execution_count": 35,
   "metadata": {},
   "outputs": [
    {
     "name": "stdout",
     "output_type": "stream",
     "text": [
      "Representation: \n",
      "\n",
      "   Time  Values\n",
      "0     1      10\n",
      "1     2      20\n",
      "2     3      35\n",
      "3     4      45\n",
      "\n",
      "\n",
      "Stats:\n",
      "\n",
      "           Time     Values\n",
      "count  4.000000   4.000000\n",
      "mean   2.500000  27.500000\n",
      "std    1.290994  15.545632\n",
      "min    1.000000  10.000000\n",
      "25%    1.750000  17.500000\n",
      "50%    2.500000  27.500000\n",
      "75%    3.250000  37.500000\n",
      "max    4.000000  45.000000\n",
      "\n",
      "\n",
      "<class 'pandas.core.frame.DataFrame'>\n",
      "RangeIndex: 4 entries, 0 to 3\n",
      "Data columns (total 2 columns):\n",
      " #   Column  Non-Null Count  Dtype\n",
      "---  ------  --------------  -----\n",
      " 0   Time    4 non-null      int64\n",
      " 1   Values  4 non-null      int64\n",
      "dtypes: int64(2)\n",
      "memory usage: 192.0 bytes\n",
      "Info:\n",
      "\n",
      "None\n",
      "\n",
      "\n"
     ]
    }
   ],
   "source": [
    "mydata = {'Timestamp': [1,2,3], 'Value':[10, 12.5, 13.5]}\n",
    "myframe = pd.DataFrame(data=mydata)\n",
    "\n",
    "mycols = ['Time', 'Values']\n",
    "mydata2 = [[1,10], [2, 20], [3, 35], [4, 45]]\n",
    "myframe2 = pd.DataFrame(data=mydata2,  columns=mycols)\n",
    "print('Representation: ', myframe2, '', sep=\"\\n\\n\")\n",
    "print('Stats:', myframe2.describe(), '', sep=\"\\n\\n\")\n",
    "print('Info:', myframe2.info(), '', sep=\"\\n\\n\")"
   ]
  },
  {
   "cell_type": "code",
   "execution_count": 16,
   "metadata": {},
   "outputs": [
    {
     "data": {
      "text/plain": [
       "0    1\n",
       "1    2\n",
       "2    3\n",
       "3    4\n",
       "Name: Time, dtype: int64"
      ]
     },
     "execution_count": 16,
     "metadata": {},
     "output_type": "execute_result"
    }
   ],
   "source": [
    "myframe2['Time']"
   ]
  },
  {
   "cell_type": "code",
   "execution_count": 17,
   "metadata": {},
   "outputs": [
    {
     "data": {
      "text/plain": [
       "0    10\n",
       "1    20\n",
       "2    35\n",
       "3    45\n",
       "Name: Values, dtype: int64"
      ]
     },
     "execution_count": 17,
     "metadata": {},
     "output_type": "execute_result"
    }
   ],
   "source": [
    "myframe2['Values']"
   ]
  },
  {
   "cell_type": "code",
   "execution_count": 26,
   "metadata": {},
   "outputs": [
    {
     "data": {
      "text/plain": [
       "35"
      ]
     },
     "execution_count": 26,
     "metadata": {},
     "output_type": "execute_result"
    }
   ],
   "source": [
    "myframe2.loc[2]['Values']"
   ]
  },
  {
   "cell_type": "code",
   "execution_count": 36,
   "metadata": {},
   "outputs": [
    {
     "data": {
      "text/plain": [
       "Time       1\n",
       "Values    10\n",
       "Name: 0, dtype: int64"
      ]
     },
     "execution_count": 36,
     "metadata": {},
     "output_type": "execute_result"
    }
   ],
   "source": [
    "myframe2.loc[0]"
   ]
  },
  {
   "cell_type": "code",
   "execution_count": 38,
   "metadata": {},
   "outputs": [
    {
     "name": "stdout",
     "output_type": "stream",
     "text": [
      "        Time  Speed\n",
      "Suzuki     1    120\n",
      "Ford       1    140\n",
      "Opel       1    110\n"
     ]
    }
   ],
   "source": [
    "colnames = ['Time', 'Speed']\n",
    "rownames = ['Suzuki', 'Ford', 'Opel']\n",
    "measures = [[1, 120], [1, 140], [1, 110]]\n",
    "spmeasurement = pd.DataFrame(data=measures, index=rownames, columns=colnames)\n",
    "print(spmeasurement)"
   ]
  }
 ],
 "metadata": {
  "kernelspec": {
   "display_name": "Python 3",
   "language": "python",
   "name": "python3"
  },
  "language_info": {
   "codemirror_mode": {
    "name": "ipython",
    "version": 3
   },
   "file_extension": ".py",
   "mimetype": "text/x-python",
   "name": "python",
   "nbconvert_exporter": "python",
   "pygments_lexer": "ipython3",
   "version": "3.8.3"
  }
 },
 "nbformat": 4,
 "nbformat_minor": 4
}
