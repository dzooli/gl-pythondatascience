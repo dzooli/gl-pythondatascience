{
 "cells": [
  {
   "cell_type": "markdown",
   "metadata": {},
   "source": [
    "# Conditional usage of NumPy arrays\n",
    "\n",
    "Aka logical indexing. Accessing, modifying array elements based on conditions."
   ]
  },
  {
   "cell_type": "code",
   "execution_count": 15,
   "metadata": {},
   "outputs": [],
   "source": [
    "import numpy as np\n",
    "\n",
    "# Generate a normally distributed random vector\n",
    "rand_vect = np.random.randn(15)\n"
   ]
  },
  {
   "cell_type": "markdown",
   "metadata": {},
   "source": [
    "## Conditional print"
   ]
  },
  {
   "cell_type": "code",
   "execution_count": 4,
   "metadata": {},
   "outputs": [
    {
     "name": "stdout",
     "output_type": "stream",
     "text": [
      "[ True False  True False False False  True  True False False False  True\n",
      " False False  True]\n"
     ]
    }
   ],
   "source": [
    "print(rand_vect>0)"
   ]
  },
  {
   "cell_type": "code",
   "execution_count": 16,
   "metadata": {},
   "outputs": [
    {
     "name": "stdout",
     "output_type": "stream",
     "text": [
      "[ 0.0274823  -1.80494624  2.05815222 -0.1928453  -1.49284126  0.54935301\n",
      " -0.00463983  1.27997135 -0.52167561  0.14853334  0.78929814  0.55387626\n",
      "  1.03724183  0.78952271 -0.036219  ]\n"
     ]
    }
   ],
   "source": [
    "print(rand_vect)"
   ]
  },
  {
   "cell_type": "markdown",
   "metadata": {},
   "source": [
    "## Conditional modification"
   ]
  },
  {
   "cell_type": "code",
   "execution_count": 17,
   "metadata": {},
   "outputs": [],
   "source": [
    "# Modify elements where the condition is true\n",
    "rand_vect[rand_vect>0.5] = -5.0"
   ]
  },
  {
   "cell_type": "code",
   "execution_count": 18,
   "metadata": {},
   "outputs": [
    {
     "name": "stdout",
     "output_type": "stream",
     "text": [
      "[ 2.74823017e-02 -1.80494624e+00 -5.00000000e+00 -1.92845299e-01\n",
      " -1.49284126e+00 -5.00000000e+00 -4.63982687e-03 -5.00000000e+00\n",
      " -5.21675607e-01  1.48533338e-01 -5.00000000e+00 -5.00000000e+00\n",
      " -5.00000000e+00 -5.00000000e+00 -3.62190041e-02]\n"
     ]
    }
   ],
   "source": [
    "print(rand_vect)"
   ]
  },
  {
   "cell_type": "markdown",
   "metadata": {},
   "source": [
    "# Save and load  arrays\n",
    "## As normal files"
   ]
  },
  {
   "cell_type": "code",
   "execution_count": 22,
   "metadata": {},
   "outputs": [],
   "source": [
    "np.save('filename', rand_vect)"
   ]
  },
  {
   "cell_type": "markdown",
   "metadata": {},
   "source": [
    "## As zipped files"
   ]
  },
  {
   "cell_type": "code",
   "execution_count": 20,
   "metadata": {},
   "outputs": [],
   "source": [
    "np.savez('filename', rand_vect)"
   ]
  },
  {
   "cell_type": "markdown",
   "metadata": {},
   "source": [
    "# Loading arrays"
   ]
  },
  {
   "cell_type": "code",
   "execution_count": 26,
   "metadata": {},
   "outputs": [
    {
     "name": "stdout",
     "output_type": "stream",
     "text": [
      "[ 2.74823017e-02 -1.80494624e+00 -5.00000000e+00 -1.92845299e-01\n",
      " -1.49284126e+00 -5.00000000e+00 -4.63982687e-03 -5.00000000e+00\n",
      " -5.21675607e-01  1.48533338e-01 -5.00000000e+00 -5.00000000e+00\n",
      " -5.00000000e+00 -5.00000000e+00 -3.62190041e-02]\n",
      "\n",
      "<numpy.lib.npyio.NpzFile object at 0x0000029C7FDE7CA0>\n"
     ]
    }
   ],
   "source": [
    "loaded_vec = np.load('filename.npy')\n",
    "loaded_zvec = np.load('filename.npz')\n",
    "\n",
    "print(loaded_vec, sep='\\n\\n')\n",
    "print()\n",
    "print(loaded_zvec)"
   ]
  },
  {
   "cell_type": "code",
   "execution_count": null,
   "metadata": {},
   "outputs": [],
   "source": []
  }
 ],
 "metadata": {
  "kernelspec": {
   "display_name": "Python 3",
   "language": "python",
   "name": "python3"
  },
  "language_info": {
   "codemirror_mode": {
    "name": "ipython",
    "version": 3
   },
   "file_extension": ".py",
   "mimetype": "text/x-python",
   "name": "python",
   "nbconvert_exporter": "python",
   "pygments_lexer": "ipython3",
   "version": "3.8.3"
  }
 },
 "nbformat": 4,
 "nbformat_minor": 4
}
