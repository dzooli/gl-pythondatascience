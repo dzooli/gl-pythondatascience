{
 "cells": [
  {
   "cell_type": "markdown",
   "metadata": {},
   "source": [
    "# Concatenation of DataFrames"
   ]
  },
  {
   "cell_type": "markdown",
   "metadata": {},
   "source": [
    "## Concat with same index values (default)"
   ]
  },
  {
   "cell_type": "code",
   "execution_count": 11,
   "metadata": {},
   "outputs": [
    {
     "name": "stdout",
     "output_type": "stream",
     "text": [
      "   customer category  important  sales\n",
      "0       101    apple       True    100\n",
      "1       102   banana      False    120\n",
      "2       103   orange       True    130\n",
      "3       104    peach      False     90 \n",
      "\n",
      "  category   color  customer  distance important  sales\n",
      "0    apple     NaN       101       NaN      True    100\n",
      "1   banana     NaN       102       NaN     False    120\n",
      "2   orange     NaN       103       NaN      True    130\n",
      "3    peach     NaN       104       NaN     False     90\n",
      "0      NaN     red       101      10.0       NaN    333\n",
      "1      NaN  yellow       103      20.0       NaN    666\n",
      "2      NaN  orange       105      30.0       NaN    999\n",
      "3      NaN    pink       106      40.0       NaN   1333\n",
      "\n",
      "   customer category  important  sales  customer   color  distance  sales\n",
      "0       101    apple       True    100       101     red        10    333\n",
      "1       102   banana      False    120       103  yellow        20    666\n",
      "2       103   orange       True    130       105  orange        30    999\n",
      "3       104    peach      False     90       106    pink        40   1333\n"
     ]
    }
   ],
   "source": [
    "import pandas as pd\n",
    "import numpy as np\n",
    "\n",
    "df1 = pd.DataFrame({'customer':[101, 102, 103, 104],\n",
    "                    'category':['apple', 'banana', 'orange', 'peach'],\n",
    "                    'important':[True, False, True, False],\n",
    "                    'sales':[100, 120, 130, 90] \n",
    "                   })\n",
    "print(df1, '\\n')\n",
    "\n",
    "df2 = pd.DataFrame({\n",
    "    'customer':[101, 103, 105, 106],\n",
    "    'color':['red','yellow','orange','pink'],\n",
    "    'distance':[10, 20, 30, 40],\n",
    "    'sales':[333, 666, 999, 1333]\n",
    "})\n",
    "\n",
    "ccax0 = pd.concat([df1, df2], axis=0, sort=True)\n",
    "ccax1 = pd.concat([df1, df2], axis=1, sort=True)\n",
    "print(ccax0, ccax1, sep=\"\\n\\n\")"
   ]
  },
  {
   "cell_type": "code",
   "execution_count": 21,
   "metadata": {},
   "outputs": [
    {
     "name": "stdout",
     "output_type": "stream",
     "text": [
      "category     banana\n",
      "color           NaN\n",
      "customer        102\n",
      "distance        NaN\n",
      "important     False\n",
      "sales           120\n",
      "Name: 1, dtype: object\n",
      "\n",
      "  category   color  customer  distance important  sales\n",
      "1   banana     NaN       102       NaN     False    120\n",
      "1      NaN  yellow       103      20.0       NaN    666\n"
     ]
    }
   ],
   "source": [
    "print(ccax0.iloc[1], ccax0.loc[1], sep=\"\\n\\n\")"
   ]
  },
  {
   "cell_type": "markdown",
   "metadata": {},
   "source": [
    "## Concat with unique index values"
   ]
  },
  {
   "cell_type": "code",
   "execution_count": 39,
   "metadata": {},
   "outputs": [
    {
     "name": "stdout",
     "output_type": "stream",
     "text": [
      "   customer product  sales  customer  remains\n",
      "0     101.0   apple  220.0       NaN      NaN\n",
      "1     102.0  banana  240.0       NaN      NaN\n",
      "2     103.0  orange  100.0       NaN      NaN\n",
      "3       NaN     NaN    NaN     101.0     22.0\n",
      "4       NaN     NaN    NaN     102.0     24.0\n",
      "5       NaN     NaN    NaN     105.0     10.0\n"
     ]
    }
   ],
   "source": [
    "df3 = pd.DataFrame({\n",
    "    'customer':[101,102,103],\n",
    "    'product':['apple', 'banana', 'orange'],\n",
    "    'sales':[220, 240, 100]\n",
    "}, index=[0,1,2], dtype='uint8')\n",
    "df4 = pd.DataFrame({\n",
    "    'customer':[101,102,105],\n",
    "    'remains':[22, 24, 10]\n",
    "}, index=[3,4,5])\n",
    "\n",
    "df5 = pd.concat([df3, df4], axis=1)\n",
    "print(df5)"
   ]
  },
  {
   "cell_type": "markdown",
   "metadata": {},
   "source": [
    "# Merge DataFrames"
   ]
  },
  {
   "cell_type": "code",
   "execution_count": 40,
   "metadata": {},
   "outputs": [
    {
     "name": "stdout",
     "output_type": "stream",
     "text": [
      "   customer product  sales  remains\n",
      "0       101   apple  220.0     22.0\n",
      "1       102  banana  240.0     24.0\n",
      "2       103  orange  100.0      NaN\n",
      "3       105     NaN    NaN     10.0\n",
      "\n",
      "   customer product  sales  remains\n",
      "0       101   apple    220       22\n",
      "1       102  banana    240       24\n"
     ]
    }
   ],
   "source": [
    "print(pd.merge(df3, df4, how=\"outer\", on=\"customer\")) # like union\n",
    "print('')\n",
    "print(pd.merge(df3, df4, how=\"inner\", on=\"customer\")) # like intersection"
   ]
  },
  {
   "cell_type": "code",
   "execution_count": 41,
   "metadata": {},
   "outputs": [
    {
     "name": "stdout",
     "output_type": "stream",
     "text": [
      "   customer product  sales  remains\n",
      "0       101   apple    220     22.0\n",
      "1       102  banana    240     24.0\n",
      "2       103  orange    100      NaN\n"
     ]
    }
   ],
   "source": [
    "print(pd.merge(df3, df4, how=\"left\", on=\"customer\"))"
   ]
  },
  {
   "cell_type": "markdown",
   "metadata": {},
   "source": [
    "## Join together\n",
    "\n",
    "Similar to merge() but uses the indexes for the relation. **Possible types:** left, right, inner, outer"
   ]
  },
  {
   "cell_type": "code",
   "execution_count": 74,
   "metadata": {},
   "outputs": [
    {
     "name": "stdout",
     "output_type": "stream",
     "text": [
      "     A   B\n",
      "I0  L1  10\n",
      "I1  L2  20\n",
      "I2  L3  30\n",
      "\n",
      "     C   D\n",
      "I0  R1  40\n",
      "I1  R2  50\n",
      " \n",
      " Outer join...\n",
      "     A   B    C     D\n",
      "I0  L1  10   R1  40.0\n",
      "I1  L2  20   R2  50.0\n",
      "I2  L3  30  NaN   NaN\n",
      " \n",
      " Inner join...\n",
      "     A   B   C   D\n",
      "I0  L1  10  R1  40\n",
      "I1  L2  20  R2  50\n",
      "\n",
      " Left and right join is also available.\n"
     ]
    }
   ],
   "source": [
    "df5 = pd.DataFrame({\n",
    "    'A': ['L1', 'L2', 'L3'],\n",
    "    'B': [10, 20, 30]\n",
    "}, index=['I0', 'I1', 'I2'])\n",
    "df6 = pd.DataFrame({\n",
    "    'C': ['R1', 'R2'],\n",
    "    'D': [40, 50]\n",
    "}, index=['I0', 'I1'])\n",
    "print(df5)\n",
    "print('')\n",
    "print(df6)\n",
    "print('', \"\\n\", 'Outer join...')\n",
    "print(df5.join(df6, how='outer'))\n",
    "print('', \"\\n\", 'Inner join...')\n",
    "print(df5.join(df6, how='inner'))\n",
    "print(\"\\n\", \"Left and right join is also available.\")"
   ]
  }
 ],
 "metadata": {
  "kernelspec": {
   "display_name": "Python 3",
   "language": "python",
   "name": "python3"
  },
  "language_info": {
   "codemirror_mode": {
    "name": "ipython",
    "version": 3
   },
   "file_extension": ".py",
   "mimetype": "text/x-python",
   "name": "python",
   "nbconvert_exporter": "python",
   "pygments_lexer": "ipython3",
   "version": "3.8.3"
  }
 },
 "nbformat": 4,
 "nbformat_minor": 4
}
