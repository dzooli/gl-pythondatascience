{
 "cells": [
  {
   "cell_type": "markdown",
   "metadata": {},
   "source": [
    "# Accessing and modifying DataFrames"
   ]
  },
  {
   "cell_type": "markdown",
   "metadata": {},
   "source": [
    "## Columns"
   ]
  },
  {
   "cell_type": "code",
   "execution_count": 3,
   "metadata": {},
   "outputs": [
    {
     "name": "stdout",
     "output_type": "stream",
     "text": [
      "day1   -0.601100\n",
      "day2    1.059559\n",
      "day3    0.717919\n",
      "day4   -0.025711\n",
      "day5    0.776564\n",
      "Name: ford, dtype: float64\n",
      "\n",
      "          ford      fiat\n",
      "day1 -0.601100 -0.644491\n",
      "day2  1.059559  2.104877\n",
      "day3  0.717919 -0.435918\n",
      "day4 -0.025711  1.658462\n",
      "day5  0.776564  0.802145\n"
     ]
    }
   ],
   "source": [
    "import pandas as pd\n",
    "import numpy as np\n",
    "\n",
    "myframe3 = pd.DataFrame(data=np.random.randn(5,5), index=['day1', 'day2', 'day3', 'day4', 'day5'], columns=['fiat', 'opel', 'ford', 'toyota', 'lux'])\n",
    "\n",
    "print(myframe3['ford'])\n",
    "print('')\n",
    "print(myframe3[['ford', 'fiat']])"
   ]
  },
  {
   "cell_type": "markdown",
   "metadata": {},
   "source": [
    "## Rows"
   ]
  },
  {
   "cell_type": "code",
   "execution_count": 4,
   "metadata": {},
   "outputs": [
    {
     "name": "stdout",
     "output_type": "stream",
     "text": [
      "fiat      1.658462\n",
      "opel     -0.017015\n",
      "ford     -0.025711\n",
      "toyota    0.744925\n",
      "lux       0.596820\n",
      "Name: day4, dtype: float64\n"
     ]
    }
   ],
   "source": [
    "print(myframe3.loc['day4'])"
   ]
  },
  {
   "cell_type": "code",
   "execution_count": 6,
   "metadata": {},
   "outputs": [
    {
     "name": "stdout",
     "output_type": "stream",
     "text": [
      "fiat      1.658462\n",
      "opel     -0.017015\n",
      "ford     -0.025711\n",
      "toyota    0.744925\n",
      "lux       0.596820\n",
      "Name: day4, dtype: float64\n"
     ]
    }
   ],
   "source": [
    "print(myframe3.iloc[3])"
   ]
  },
  {
   "cell_type": "markdown",
   "metadata": {},
   "source": [
    "## Multiple rows and columns"
   ]
  },
  {
   "cell_type": "code",
   "execution_count": 8,
   "metadata": {},
   "outputs": [
    {
     "name": "stdout",
     "output_type": "stream",
     "text": [
      "          fiat      opel\n",
      "day1 -0.644491 -0.433514\n",
      "day3 -0.435918  0.123176\n"
     ]
    }
   ],
   "source": [
    "print(myframe3.loc[['day1', 'day3'], ['fiat', 'opel']])"
   ]
  },
  {
   "cell_type": "markdown",
   "metadata": {},
   "source": [
    "## Access by conditionals"
   ]
  },
  {
   "cell_type": "code",
   "execution_count": 10,
   "metadata": {},
   "outputs": [
    {
     "name": "stdout",
     "output_type": "stream",
     "text": [
      "       fiat   opel   ford  toyota   lux\n",
      "day1  False  False  False   False  True\n",
      "day2   True   True   True   False  True\n",
      "day3  False   True   True   False  True\n",
      "day4   True  False  False    True  True\n",
      "day5   True  False   True   False  True\n"
     ]
    }
   ],
   "source": [
    "print(myframe3>0.0)"
   ]
  },
  {
   "cell_type": "code",
   "execution_count": 11,
   "metadata": {},
   "outputs": [
    {
     "name": "stdout",
     "output_type": "stream",
     "text": [
      "       fiat   opel\n",
      "day1  False  False\n",
      "day3  False   True\n"
     ]
    }
   ],
   "source": [
    "print(myframe3.loc[['day1', 'day3'], ['fiat', 'opel']]>0.0)"
   ]
  },
  {
   "cell_type": "code",
   "execution_count": 21,
   "metadata": {},
   "outputs": [
    {
     "name": "stdout",
     "output_type": "stream",
     "text": [
      "          fiat      opel      ford    toyota       lux     dacia\n",
      "day1       NaN       NaN       NaN       NaN  0.233666  1.455945\n",
      "day2  2.104877  0.253709  1.059559       NaN  0.516050  1.293024\n",
      "day3       NaN  0.123176  0.717919       NaN  0.460545  0.620088\n",
      "day4  1.658462       NaN       NaN  0.744925  0.596820       NaN\n",
      "day5  0.802145       NaN  0.776564       NaN  1.301575  0.464028\n"
     ]
    }
   ],
   "source": [
    "print(myframe3[myframe3>0.0])"
   ]
  },
  {
   "cell_type": "markdown",
   "metadata": {},
   "source": [
    "## Add and remove columns"
   ]
  },
  {
   "cell_type": "code",
   "execution_count": 12,
   "metadata": {},
   "outputs": [
    {
     "name": "stdout",
     "output_type": "stream",
     "text": [
      "          fiat      opel      ford    toyota       lux     dacia\n",
      "day1 -0.644491 -0.433514 -0.601100 -0.284138  0.233666  1.455945\n",
      "day2  2.104877  0.253709  1.059559 -0.624581  0.516050  1.293024\n",
      "day3 -0.435918  0.123176  0.717919 -0.707894  0.460545  0.620088\n",
      "day4  1.658462 -0.017015 -0.025711  0.744925  0.596820 -0.845375\n",
      "day5  0.802145 -1.049710  0.776564 -0.940293  1.301575  0.464028\n"
     ]
    }
   ],
   "source": [
    "myframe3['dacia'] = np.random.randn(5,1)\n",
    "print(myframe3)"
   ]
  },
  {
   "cell_type": "code",
   "execution_count": 18,
   "metadata": {},
   "outputs": [
    {
     "name": "stdout",
     "output_type": "stream",
     "text": [
      "          fiat      opel      ford    toyota       lux     dacia\n",
      "day2  2.104877  0.253709  1.059559 -0.624581  0.516050  1.293024\n",
      "day3 -0.435918  0.123176  0.717919 -0.707894  0.460545  0.620088\n",
      "day4  1.658462 -0.017015 -0.025711  0.744925  0.596820 -0.845375\n",
      "day5  0.802145 -1.049710  0.776564 -0.940293  1.301575  0.464028\n",
      "\n",
      "          ford    toyota       lux     dacia\n",
      "day1 -0.601100 -0.284138  0.233666  1.455945\n",
      "day2  1.059559 -0.624581  0.516050  1.293024\n",
      "day3  0.717919 -0.707894  0.460545  0.620088\n",
      "day4 -0.025711  0.744925  0.596820 -0.845375\n",
      "day5  0.776564 -0.940293  1.301575  0.464028\n"
     ]
    }
   ],
   "source": [
    "reduced = myframe3.drop(['day1'], axis=0)\n",
    "print(reduced)\n",
    "print('')\n",
    "reduced2 = myframe3.drop(['fiat', 'opel'], axis=1)\n",
    "print(reduced2)"
   ]
  },
  {
   "cell_type": "markdown",
   "metadata": {},
   "source": [
    "## Modify index"
   ]
  },
  {
   "cell_type": "code",
   "execution_count": 22,
   "metadata": {},
   "outputs": [
    {
     "name": "stdout",
     "output_type": "stream",
     "text": [
      "               fiat      opel      ford    toyota       lux     dacia\n",
      "new_index                                                            \n",
      "d1        -0.644491 -0.433514 -0.601100 -0.284138  0.233666  1.455945\n",
      "d2         2.104877  0.253709  1.059559 -0.624581  0.516050  1.293024\n",
      "d3        -0.435918  0.123176  0.717919 -0.707894  0.460545  0.620088\n",
      "d4         1.658462 -0.017015 -0.025711  0.744925  0.596820 -0.845375\n",
      "d5         0.802145 -1.049710  0.776564 -0.940293  1.301575  0.464028\n"
     ]
    }
   ],
   "source": [
    "myframe3['new_index'] = ['d1', 'd2', 'd3', 'd4', 'd5']\n",
    "myframe3.set_index('new_index', inplace=True)\n",
    "print(myframe3)"
   ]
  },
  {
   "cell_type": "markdown",
   "metadata": {},
   "source": [
    "## Complex creation of a DataFrame"
   ]
  },
  {
   "cell_type": "code",
   "execution_count": 27,
   "metadata": {},
   "outputs": [
    {
     "name": "stdout",
     "output_type": "stream",
     "text": [
      "    customer  product1  product2  product3\n",
      "0  Customer1       1.2       2.2      4.10\n",
      "1  Customer2       1.3       2.3      4.20\n",
      "2  Customer3       1.4       2.1      4.15\n",
      "\n",
      "          customer  product1  product2  product3\n",
      "Hungary  Customer1       1.2       2.2      4.10\n",
      "Germany  Customer2       1.3       2.3      4.20\n",
      "Spain    Customer3       1.4       2.1      4.15\n",
      "\n",
      "          product1                                   product2       ...       \\\n",
      "             count mean std  min  25%  50%  75%  max    count mean  ...  75%   \n",
      "customer                                                            ...        \n",
      "Customer1      1.0  1.2 NaN  1.2  1.2  1.2  1.2  1.2      1.0  2.2  ...  2.2   \n",
      "Customer2      1.0  1.3 NaN  1.3  1.3  1.3  1.3  1.3      1.0  2.3  ...  2.3   \n",
      "Customer3      1.0  1.4 NaN  1.4  1.4  1.4  1.4  1.4      1.0  2.1  ...  2.1   \n",
      "\n",
      "               product3                                          \n",
      "           max    count  mean std   min   25%   50%   75%   max  \n",
      "customer                                                         \n",
      "Customer1  2.2      1.0  4.10 NaN  4.10  4.10  4.10  4.10  4.10  \n",
      "Customer2  2.3      1.0  4.20 NaN  4.20  4.20  4.20  4.20  4.20  \n",
      "Customer3  2.1      1.0  4.15 NaN  4.15  4.15  4.15  4.15  4.15  \n",
      "\n",
      "[3 rows x 24 columns]\n"
     ]
    }
   ],
   "source": [
    "mydict = {'customer': ['Customer1', 'Customer2', 'Customer3'],\n",
    "          'product1': [1.2, 1.3, 1.4],\n",
    "          'product2': [2.2, 2.3, 2.1],\n",
    "          'product3': [4.1, 4.2, 4.15]\n",
    "         }\n",
    "df1 = pd.DataFrame(mydict)\n",
    "print(df1)\n",
    "\n",
    "print('')\n",
    "df2 = pd.DataFrame(mydict, index=['Hungary', 'Germany', 'Spain'])\n",
    "print(df2)\n",
    "\n",
    "print('')\n",
    "df3 = df2.groupby('customer')\n",
    "print(df3.describe())"
   ]
  },
  {
   "cell_type": "markdown",
   "metadata": {},
   "source": [
    "## Various interesting possibilities"
   ]
  },
  {
   "cell_type": "code",
   "execution_count": 33,
   "metadata": {},
   "outputs": [],
   "source": [
    "from matplotlib import pyplot as plt"
   ]
  },
  {
   "cell_type": "code",
   "execution_count": 53,
   "metadata": {},
   "outputs": [
    {
     "data": {
      "image/png": "[encoded data removed]",
      "text/plain": [
       "<Figure size 432x288 with 1 Axes>"
      ]
     },
     "metadata": {
      "needs_background": "light"
     },
     "output_type": "display_data"
    },
    {
     "name": "stdout",
     "output_type": "stream",
     "text": [
      "<class 'pandas.core.series.Series'>\n",
      "4.2\n",
      "        customer  product1  product2  product3\n",
      "Hungary      NaN       NaN       NaN       NaN\n",
      "Germany      NaN       NaN       NaN       4.2\n",
      "Spain        NaN       NaN       NaN       NaN\n"
     ]
    }
   ],
   "source": [
    "# Plotting the data\n",
    "df2.plot()\n",
    "plt.show()\n",
    "\n",
    "# Get the max of 'product3'\n",
    "maxval = df2.describe().loc[['max']]['product3']\n",
    "print(type(maxval))\n",
    "\n",
    "# And print the value\n",
    "print(maxval.iloc[0])\n",
    "\n",
    "# Then search the rest of the data\n",
    "print(df2[df2==maxval.iloc[0]])"
   ]
  }
 ],
 "metadata": {
  "kernelspec": {
   "display_name": "Python 3",
   "language": "python",
   "name": "python3"
  },
  "language_info": {
   "codemirror_mode": {
    "name": "ipython",
    "version": 3
   },
   "file_extension": ".py",
   "mimetype": "text/x-python",
   "name": "python",
   "nbconvert_exporter": "python",
   "pygments_lexer": "ipython3",
   "version": "3.8.3"
  }
 },
 "nbformat": 4,
 "nbformat_minor": 4
}
