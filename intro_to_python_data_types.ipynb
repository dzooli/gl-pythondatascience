{
 "cells": [
  {
   "cell_type": "code",
   "execution_count": 1,
   "metadata": {},
   "outputs": [
    {
     "data": {
      "text/plain": [
       "4"
      ]
     },
     "execution_count": 1,
     "metadata": {},
     "output_type": "execute_result"
    }
   ],
   "source": [
    "2+2"
   ]
  },
  {
   "cell_type": "code",
   "execution_count": 2,
   "metadata": {},
   "outputs": [
    {
     "name": "stdout",
     "output_type": "stream",
     "text": [
      "Hello World!\n"
     ]
    }
   ],
   "source": [
    "print(\"Hello World!\")"
   ]
  },
  {
   "cell_type": "markdown",
   "metadata": {},
   "source": [
    "### Jupyter keyboard shortcuts\n",
    "\n",
    "- Enter Command mode: ESC\n",
    "- Enter Edit mode: ENTER\n",
    "\n",
    "#### Command mode keys\n",
    "  - insert cell below: b\n",
    "  - insert cell above: a\n",
    "  - delete cell: dd\n",
    "  - convert cell to MarkDown: m\n",
    "  - convert cell to code: y\n",
    "  - Cell to heading 1-6: 1-6\n",
    "  - Cell to raw: r\n",
    "  - Cut cell: x\n",
    "  - Copy cell: c\n",
    "  - Paste cells below: v\n",
    "  - Paste cells above: SHIFT+v\n",
    "\n",
    "#### Running the cells\n",
    "\n",
    "1. SHIFT+ENTER: Run cell and select next\n",
    "2. CTRL+ENTER: Run selected cells\n",
    "3. ALT+ENTER: Run cell and insert below\n",
    "\n",
    "#### Inline help\n",
    "\n",
    "- SHIFT+TAB: Show declaration\n",
    "- SHIFT+TAB+TAB: Show full description\n"
   ]
  },
  {
   "cell_type": "markdown",
   "metadata": {},
   "source": [
    "## Markdown syntax extensions\n",
    "LaTeX inline with a single \\\\$ like this: $\\int_0^\\infty f(x) dx$\n",
    "\n",
    "Centered LaTeX inline with \\\\$\\\\$\n",
    "\n",
    "$$f(x)=\\sum_{i=1}^\\infty \\frac 1 {x^i}$$\n"
   ]
  },
  {
   "cell_type": "code",
   "execution_count": null,
   "metadata": {},
   "outputs": [],
   "source": []
  }
 ],
 "metadata": {
  "kernelspec": {
   "display_name": "Python 3",
   "language": "python",
   "name": "python3"
  },
  "language_info": {
   "codemirror_mode": {
    "name": "ipython",
    "version": 3
   },
   "file_extension": ".py",
   "mimetype": "text/x-python",
   "name": "python",
   "nbconvert_exporter": "python",
   "pygments_lexer": "ipython3",
   "version": "3.8.3"
  }
 },
 "nbformat": 4,
 "nbformat_minor": 4
}
