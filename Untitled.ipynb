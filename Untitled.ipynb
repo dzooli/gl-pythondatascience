{
 "cells": [
  {
   "cell_type": "markdown",
   "metadata": {},
   "source": [
    "# Classes and Objects in Python"
   ]
  },
  {
   "cell_type": "markdown",
   "metadata": {},
   "source": [
    "1. **Class is a blueprint** to create an object\n",
    "2. **Object is** an encapsulated **code of data, variables and functions** (called 'methods')\n",
    "3. Object is created from a Class by assigning a name to it **(instantiate)**\n",
    "4. **Object Oriented Programming (OOP) is a method where we are mapping the real things** into Objects (in the code)\n",
    "5. this makes programming **more modular and easy to maintain**"
   ]
  },
  {
   "cell_type": "markdown",
   "metadata": {},
   "source": [
    "## Example classes with hierarchy"
   ]
  },
  {
   "cell_type": "code",
   "execution_count": 24,
   "metadata": {},
   "outputs": [
    {
     "name": "stdout",
     "output_type": "stream",
     "text": [
      "Origin: 1.1; 1.3 Radius1: 1.0 Radius2: 11.1\n"
     ]
    }
   ],
   "source": [
    "class Point:\n",
    "    def __init__(self, x,y):\n",
    "        self.x = x\n",
    "        self.y = y\n",
    "        \n",
    "    def __repr__(self):\n",
    "        return str(self.x) + '; ' + str(self.y)\n",
    "    \n",
    "class Circle:\n",
    "    def __init__(self, x, y):\n",
    "        self.origin = Point(x, y) # Set the origin to a Point instance with the passed parameters\n",
    "        self.radius = 1.0\n",
    "        \n",
    "class Ellipsoid(Circle):\n",
    "    def __init__(self, x, y, r1, r2):\n",
    "        super().__init__(x, y) # Calll the Circle's constructor\n",
    "        self.radius2=r2\n",
    "        \n",
    "    def __repr__(self):\n",
    "        return 'Origin: ' + str(self.origin) + ' Radius1: ' + str(self.radius) + ' Radius2: ' + str(self.radius2)\n",
    "        \n",
    "ell1 = Ellipsoid(1.1, 1.3, 10.2, 11.1)\n",
    "print(ell1)"
   ]
  },
  {
   "cell_type": "markdown",
   "metadata": {},
   "source": [
    "**Notice:** The Ellipsoid calls the Circle's constructor where the _radius_ has been set to constant 1.0"
   ]
  },
  {
   "cell_type": "markdown",
   "metadata": {},
   "source": [
    "# Some tricks and tips"
   ]
  },
  {
   "cell_type": "markdown",
   "metadata": {},
   "source": [
    "## Dictionary unpacking"
   ]
  },
  {
   "cell_type": "code",
   "execution_count": 29,
   "metadata": {},
   "outputs": [
    {
     "data": {
      "text/plain": [
       "{'a': 2, 'b': 3, 'c': 4, 'd': 7}"
      ]
     },
     "execution_count": 29,
     "metadata": {},
     "output_type": "execute_result"
    }
   ],
   "source": [
    "x = {'a': 2, 'b': 3}\n",
    "y = {'c': 4, 'd': 7}\n",
    "z={**x, **y}\n",
    "z"
   ]
  }
 ],
 "metadata": {
  "kernelspec": {
   "display_name": "Python 3",
   "language": "python",
   "name": "python3"
  },
  "language_info": {
   "codemirror_mode": {
    "name": "ipython",
    "version": 3
   },
   "file_extension": ".py",
   "mimetype": "text/x-python",
   "name": "python",
   "nbconvert_exporter": "python",
   "pygments_lexer": "ipython3",
   "version": "3.8.3"
  }
 },
 "nbformat": 4,
 "nbformat_minor": 4
}
