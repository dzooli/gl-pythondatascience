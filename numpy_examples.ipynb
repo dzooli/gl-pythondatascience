{
 "cells": [
  {
   "cell_type": "markdown",
   "metadata": {},
   "source": [
    "# Numpy Examples\n",
    "## The basics"
   ]
  },
  {
   "cell_type": "code",
   "execution_count": 2,
   "metadata": {},
   "outputs": [
    {
     "name": "stdout",
     "output_type": "stream",
     "text": [
      "-1.0\n",
      "1.4142135623730951\n",
      "5.2\n"
     ]
    }
   ],
   "source": [
    "import numpy as np\n",
    "print(np.cos(np.pi))\n",
    "print(np.sqrt(2.0))\n",
    "print(np.log(np.exp(5.2)))"
   ]
  },
  {
   "cell_type": "markdown",
   "metadata": {},
   "source": [
    "## Converting python data types to Numpy arrays"
   ]
  },
  {
   "cell_type": "code",
   "execution_count": 3,
   "metadata": {},
   "outputs": [
    {
     "name": "stdout",
     "output_type": "stream",
     "text": [
      "[1 2 3]\n",
      "[[1 2 3]\n",
      " [4 5 6]\n",
      " [7 8 9]]\n"
     ]
    }
   ],
   "source": [
    "python_list = [1, 2, 3]\n",
    "python_matrix = [[1, 2, 3], [4,5,6], [7,8,9]]\n",
    "np_vec = np.array(python_list)\n",
    "np_mat = np.array(python_matrix)\n",
    "\n",
    "print(np_vec)\n",
    "print(np_mat)"
   ]
  },
  {
   "cell_type": "markdown",
   "metadata": {},
   "source": [
    "### Other ways to create Numpy arrays"
   ]
  },
  {
   "cell_type": "code",
   "execution_count": 3,
   "metadata": {
    "scrolled": true
   },
   "outputs": [
    {
     "name": "stdout",
     "output_type": "stream",
     "text": [
      "[1 2 3]\n",
      "[[1 2 3]\n",
      " [4 5 6]\n",
      " [7 8 9]]\n"
     ]
    }
   ],
   "source": [
    "python_list = [1, 2, 3]\n",
    "python_matrix = [[1, 2, 3], [4,5,6], [7,8,9]]\n",
    "np_vec = np.array(python_list)\n",
    "np_mat = np.array(python_matrix)\n",
    "\n",
    "print(np_vec)\n",
    "print(np_mat)"
   ]
  },
  {
   "cell_type": "code",
   "execution_count": 4,
   "metadata": {},
   "outputs": [
    {
     "name": "stdout",
     "output_type": "stream",
     "text": [
      "[ 0  1  2  3  4  5  6  7  8  9 10 11 12 13 14]\n",
      "\n",
      "[ 3  9 15]\n"
     ]
    }
   ],
   "source": [
    "vec2 = np.arange(0, 15)\n",
    "print(vec2)\n",
    "print('')\n",
    "print(np.arange(3,21,6))"
   ]
  },
  {
   "cell_type": "code",
   "execution_count": 7,
   "metadata": {},
   "outputs": [
    {
     "name": "stdout",
     "output_type": "stream",
     "text": [
      "[0.         0.55555556 1.11111111 1.66666667 2.22222222 2.77777778\n",
      " 3.33333333 3.88888889 4.44444444 5.        ]\n"
     ]
    }
   ],
   "source": [
    "vec4 = np.linspace(0, 5, 10)\n",
    "print(vec4)"
   ]
  },
  {
   "cell_type": "code",
   "execution_count": 9,
   "metadata": {},
   "outputs": [
    {
     "name": "stdout",
     "output_type": "stream",
     "text": [
      "[[0.         0.55555556 1.11111111 1.66666667 2.22222222]\n",
      " [2.77777778 3.33333333 3.88888889 4.44444444 5.        ]]\n"
     ]
    }
   ],
   "source": [
    "mat_from_vect = vec4.reshape(2,5)\n",
    "print(mat_from_vect)"
   ]
  },
  {
   "cell_type": "markdown",
   "metadata": {},
   "source": [
    "### built-in matrices"
   ]
  },
  {
   "cell_type": "code",
   "execution_count": 11,
   "metadata": {},
   "outputs": [
    {
     "name": "stdout",
     "output_type": "stream",
     "text": [
      "[0. 0. 0. 0. 0.]\n",
      "[1. 1. 1. 1. 1.]\n",
      "\n",
      "[[1. 0. 0. 0. 0.]\n",
      " [0. 1. 0. 0. 0.]\n",
      " [0. 0. 1. 0. 0.]\n",
      " [0. 0. 0. 1. 0.]\n",
      " [0. 0. 0. 0. 1.]]\n"
     ]
    }
   ],
   "source": [
    "print(np.zeros(5))\n",
    "print(np.ones(5))\n",
    "print('')\n",
    "print(np.eye(5))"
   ]
  },
  {
   "cell_type": "markdown",
   "metadata": {},
   "source": [
    "## Element-wise operations"
   ]
  },
  {
   "cell_type": "code",
   "execution_count": 12,
   "metadata": {},
   "outputs": [
    {
     "name": "stdout",
     "output_type": "stream",
     "text": [
      "[1 2 3 4 5 6 7 8 9]\n",
      "\n",
      "[11 12 13 14 15 16 17 18 19]\n"
     ]
    }
   ],
   "source": [
    "vec1 = np.arange(1, 10)\n",
    "vec2 = np.arange(11,20)\n",
    "print(vec1, vec2, sep=\"\\n\\n\")"
   ]
  },
  {
   "cell_type": "code",
   "execution_count": 13,
   "metadata": {},
   "outputs": [
    {
     "name": "stdout",
     "output_type": "stream",
     "text": [
      "[12 14 16 18 20 22 24 26 28]\n",
      "[ 11  24  39  56  75  96 119 144 171]\n",
      "[0.5 1.  1.5 2.  2.5 3.  3.5 4.  4.5]\n"
     ]
    }
   ],
   "source": [
    "print(vec1+vec2)\n",
    "print(vec1*vec2)\n",
    "print(vec1/2)"
   ]
  },
  {
   "cell_type": "markdown",
   "metadata": {},
   "source": [
    "## Matrix multiplication and linear equation solve"
   ]
  },
  {
   "cell_type": "code",
   "execution_count": 15,
   "metadata": {},
   "outputs": [
    {
     "name": "stdout",
     "output_type": "stream",
     "text": [
      "[ 68 167 266]\n"
     ]
    }
   ],
   "source": [
    "mat = [[1,2,3], [4,5,6], [7,8,9]]\n",
    "vec = [10, 11, 12]\n",
    "product = np.matmul(mat,vec)\n",
    "print(product)"
   ]
  },
  {
   "cell_type": "code",
   "execution_count": 17,
   "metadata": {},
   "outputs": [
    {
     "name": "stdout",
     "output_type": "stream",
     "text": [
      "[-4.8 40.6 -2.8]\n",
      "[[ 3.15251974e+15 -6.30503948e+15  3.15251974e+15]\n",
      " [-6.30503948e+15  1.26100790e+16 -6.30503948e+15]\n",
      " [ 3.15251974e+15 -6.30503948e+15  3.15251974e+15]]\n"
     ]
    }
   ],
   "source": [
    "print(np.linalg.solve(mat, product))\n",
    "print(np.linalg.inv(mat))"
   ]
  },
  {
   "cell_type": "markdown",
   "metadata": {},
   "source": [
    "## Unique value search"
   ]
  },
  {
   "cell_type": "code",
   "execution_count": 18,
   "metadata": {},
   "outputs": [
    {
     "name": "stdout",
     "output_type": "stream",
     "text": [
      "['6.0' 'apple' 'banana' 'orange' 'peach']\n"
     ]
    }
   ],
   "source": [
    "vec = [\"orange\", \"banana\", 6.0, \"orange\", \"apple\", \"banana\", \"apple\", \"peach\"]\n",
    "nparr = np.array(vec)\n",
    "print(np.unique(nparr))"
   ]
  },
  {
   "cell_type": "markdown",
   "metadata": {},
   "source": [
    "## Random value generation"
   ]
  },
  {
   "cell_type": "code",
   "execution_count": 19,
   "metadata": {},
   "outputs": [
    {
     "name": "stdout",
     "output_type": "stream",
     "text": [
      "[[ 2.04400715 -0.5179509  -1.49421018  0.34322297  1.28753352]\n",
      " [-0.73162577 -0.3923233  -0.7008889  -1.20794719 -1.12928799]\n",
      " [-0.99378902  0.32105166  0.00479031 -0.35131851 -0.63022259]\n",
      " [ 0.24565507  1.87898282  0.75499071  0.34477681  0.01005441]\n",
      " [-0.31632417 -0.0544549   0.31289684  0.59741104  0.51054735]\n",
      " [ 0.85777912  1.09644337 -1.22011242 -0.74395445  1.43861444]\n",
      " [-0.59607692 -1.30853747  1.17418777 -0.8898002  -0.3989965 ]\n",
      " [-2.05829512 -1.3665412  -0.01698109 -2.23976869 -0.29729309]\n",
      " [ 0.7709591  -0.43789044  0.82120376 -1.01686628  2.73689607]\n",
      " [-0.33229774  2.33361884 -1.40409033  1.25427853  0.73756155]]\n",
      "\n",
      "[[0.95363843 0.39864416 0.20512876 0.53312216 0.4853609 ]\n",
      " [0.0764637  0.60241278 0.98710587 0.23427971 0.54354885]\n",
      " [0.72739356 0.45139234 0.59237039 0.62175221 0.77248079]\n",
      " [0.62453812 0.81776856 0.79896764 0.06027176 0.7974757 ]\n",
      " [0.61892338 0.53809289 0.1495497  0.80593992 0.00233452]\n",
      " [0.92492107 0.01877478 0.78894798 0.9256218  0.64322575]\n",
      " [0.03843238 0.32022122 0.62281293 0.22302972 0.6478454 ]\n",
      " [0.3927832  0.58715143 0.31167682 0.86812931 0.36404097]\n",
      " [0.73327217 0.29778979 0.50322476 0.99535714 0.78171858]\n",
      " [0.51708513 0.44399649 0.37858198 0.16181367 0.13112735]]\n"
     ]
    }
   ],
   "source": [
    "standardrandom = np.random.randn(10, 5)\n",
    "uniformrandom = np.random.rand(10, 5)\n",
    "print(standardrandom, uniformrandom, sep=\"\\n\\n\")"
   ]
  },
  {
   "cell_type": "markdown",
   "metadata": {},
   "source": [
    "### Statistics"
   ]
  },
  {
   "cell_type": "code",
   "execution_count": 20,
   "metadata": {},
   "outputs": [
    {
     "name": "stdout",
     "output_type": "stream",
     "text": [
      "0.5204107716758668\n",
      "\n",
      "0.27769593416745414\n",
      "\n",
      "0.002334517955864368\n",
      "\n",
      "0.9953571442715813\n"
     ]
    }
   ],
   "source": [
    "print(np.mean(uniformrandom), np.std(uniformrandom), np.min(uniformrandom), np.max(uniformrandom), sep=\"\\n\\n\")"
   ]
  },
  {
   "cell_type": "markdown",
   "metadata": {},
   "source": [
    "## Accessing elements by conditions"
   ]
  },
  {
   "cell_type": "code",
   "execution_count": 21,
   "metadata": {},
   "outputs": [
    {
     "name": "stdout",
     "output_type": "stream",
     "text": [
      "[[ True False False  True False]\n",
      " [False  True  True False  True]\n",
      " [ True False  True  True  True]\n",
      " [ True  True  True False  True]\n",
      " [ True  True False  True False]\n",
      " [ True False  True  True  True]\n",
      " [False False  True False  True]\n",
      " [False  True False  True False]\n",
      " [ True False  True  True  True]\n",
      " [ True False False False False]]\n"
     ]
    }
   ],
   "source": [
    "print(uniformrandom>0.5)"
   ]
  },
  {
   "cell_type": "code",
   "execution_count": 23,
   "metadata": {},
   "outputs": [
    {
     "name": "stdout",
     "output_type": "stream",
     "text": [
      "[0.95363843 0.53312216 0.60241278 0.98710587 0.54354885 0.72739356\n",
      " 0.59237039 0.62175221 0.77248079 0.62453812 0.81776856 0.79896764\n",
      " 0.7974757  0.61892338 0.53809289 0.80593992 0.92492107 0.78894798\n",
      " 0.9256218  0.64322575 0.62281293 0.6478454  0.58715143 0.86812931\n",
      " 0.73327217 0.50322476 0.99535714 0.78171858 0.51708513]\n",
      "\n",
      "29\n"
     ]
    }
   ],
   "source": [
    "bigelements=uniformrandom[uniformrandom>0.5]\n",
    "print(bigelements, len(bigelements), sep=\"\\n\\n\")"
   ]
  },
  {
   "cell_type": "markdown",
   "metadata": {},
   "source": [
    "## Save and load data"
   ]
  },
  {
   "cell_type": "code",
   "execution_count": 24,
   "metadata": {},
   "outputs": [
    {
     "name": "stdout",
     "output_type": "stream",
     "text": [
      "[]\n"
     ]
    }
   ],
   "source": [
    "np.save(\"unirandom.npy\", uniformrandom)\n",
    "uniformrandom = []\n",
    "print(uniformrandom)"
   ]
  },
  {
   "cell_type": "code",
   "execution_count": 25,
   "metadata": {},
   "outputs": [
    {
     "name": "stdout",
     "output_type": "stream",
     "text": [
      "[[0.95363843 0.39864416 0.20512876 0.53312216 0.4853609 ]\n",
      " [0.0764637  0.60241278 0.98710587 0.23427971 0.54354885]\n",
      " [0.72739356 0.45139234 0.59237039 0.62175221 0.77248079]\n",
      " [0.62453812 0.81776856 0.79896764 0.06027176 0.7974757 ]\n",
      " [0.61892338 0.53809289 0.1495497  0.80593992 0.00233452]\n",
      " [0.92492107 0.01877478 0.78894798 0.9256218  0.64322575]\n",
      " [0.03843238 0.32022122 0.62281293 0.22302972 0.6478454 ]\n",
      " [0.3927832  0.58715143 0.31167682 0.86812931 0.36404097]\n",
      " [0.73327217 0.29778979 0.50322476 0.99535714 0.78171858]\n",
      " [0.51708513 0.44399649 0.37858198 0.16181367 0.13112735]]\n"
     ]
    }
   ],
   "source": [
    "uniformrandom = np.load(\"unirandom.npy\")\n",
    "print(uniformrandom)"
   ]
  },
  {
   "cell_type": "code",
   "execution_count": 33,
   "metadata": {},
   "outputs": [
    {
     "name": "stdout",
     "output_type": "stream",
     "text": [
      "Difference of the loaded and the stored array: \n",
      "\n",
      "[[0. 0. 0. 0. 0.]\n",
      " [0. 0. 0. 0. 0.]\n",
      " [0. 0. 0. 0. 0.]\n",
      " [0. 0. 0. 0. 0.]\n",
      " [0. 0. 0. 0. 0.]\n",
      " [0. 0. 0. 0. 0.]\n",
      " [0. 0. 0. 0. 0.]\n",
      " [0. 0. 0. 0. 0.]\n",
      " [0. 0. 0. 0. 0.]\n",
      " [0. 0. 0. 0. 0.]]\n"
     ]
    }
   ],
   "source": [
    "origrandom = uniformrandom.copy()\n",
    "np.savez(\"unirandom.npz\", uniformrandom = uniformrandom)\n",
    "unirandom = np.load(\"unirandom.npz\")\n",
    "uniformrandom = []\n",
    "uniformrandom = unirandom['uniformrandom']\n",
    "print(\"Difference of the loaded and the stored array: \", origrandom-uniformrandom, sep=\"\\n\\n\")\n",
    "\n"
   ]
  }
 ],
 "metadata": {
  "kernelspec": {
   "display_name": "Python 3",
   "language": "python",
   "name": "python3"
  },
  "language_info": {
   "codemirror_mode": {
    "name": "ipython",
    "version": 3
   },
   "file_extension": ".py",
   "mimetype": "text/x-python",
   "name": "python",
   "nbconvert_exporter": "python",
   "pygments_lexer": "ipython3",
   "version": "3.8.3"
  }
 },
 "nbformat": 4,
 "nbformat_minor": 4
}
